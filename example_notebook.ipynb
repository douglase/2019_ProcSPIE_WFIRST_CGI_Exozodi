{
 "cells": [
  {
   "cell_type": "markdown",
   "metadata": {},
   "source": [
    "# This is a notebook that demonstrates how to generate one of the zodipics"
   ]
  },
  {
   "cell_type": "markdown",
   "metadata": {},
   "source": [
    "The first step is to import all the base libraries that will be needed."
   ]
  },
  {
   "cell_type": "code",
   "execution_count": 26,
   "metadata": {},
   "outputs": [],
   "source": [
    "import astropy.io.fits as fits\n",
    "import astropy.units as u\n",
    "import os\n",
    "import numpy as np\n",
    "import matplotlib.pyplot as plt\n",
    "import time # for timing purposes\n",
    "from scipy.interpolate import RegularGridInterpolator\n",
    "from pathlib import Path\n",
    "from importlib import reload\n",
    "\n",
    "%matplotlib inline"
   ]
  },
  {
   "cell_type": "markdown",
   "metadata": {},
   "source": [
    "Also update the parameters for plots so that viewing and analyzing plots is more intuitive."
   ]
  },
  {
   "cell_type": "code",
   "execution_count": 2,
   "metadata": {
    "collapsed": true
   },
   "outputs": [],
   "source": [
    "plt.rcParams.update({'image.origin': 'lower',\n",
    "                     'image.interpolation':\"nearest\"})"
   ]
  },
  {
   "cell_type": "markdown",
   "metadata": {},
   "source": [
    "Next is to import the python files that contain all the functions used to process the zodipics and Debes Models. The functions used are also displayed at the bottom of the code but are contained in a separate .py file so that use would be easier. "
   ]
  },
  {
   "cell_type": "code",
   "execution_count": 3,
   "metadata": {
    "collapsed": true
   },
   "outputs": [],
   "source": [
    "import hlc_processing\n",
    "import disk_processing"
   ]
  },
  {
   "cell_type": "markdown",
   "metadata": {},
   "source": [
    "Next is to setup the home path where all the files needed."
   ]
  },
  {
   "cell_type": "code",
   "execution_count": 4,
   "metadata": {
    "collapsed": true,
    "scrolled": false
   },
   "outputs": [],
   "source": [
    "my_home_path = Path.home() / 'projects/WFIRST/data'\n"
   ]
  },
  {
   "cell_type": "markdown",
   "metadata": {},
   "source": [
    "### Then import the fits files that contain the psfs and the information about the psfs such as the offset values\n",
    "In this case, the psfs used for the demonstration will be the Observing Sceneario 5 psfs which are publicly available on the wfirst ipac website."
   ]
  },
  {
   "cell_type": "code",
   "execution_count": 5,
   "metadata": {},
   "outputs": [
    {
     "name": "stdout",
     "output_type": "stream",
     "text": [
      "/Users/edouglas/projects/WFIRST/data/OS5_ADI_3.2/OS5_adi_3_highres_polx_lowfc_random_offset_psfs.fits\n",
      "/Users/edouglas/projects/WFIRST/data/OS5_ADI_3.2/OS5_adi_3_highres_polx_lowfc_random_offset_psfs_offsets.fits\n"
     ]
    }
   ],
   "source": [
    "# first, define the paths of each of the files \n",
    "\n",
    "psfs_file_path = my_home_path /'OS5_ADI_3.2'/'OS5_adi_3_highres_polx_lowfc_random_offset_psfs.fits'\n",
    "print(psfs_file_path)\n",
    "\n",
    "info_file_path = my_home_path /'OS5_ADI_3.2'/'OS5_adi_3_highres_polx_lowfc_random_offset_psfs_offsets.fits'\n",
    "print(info_file_path)\n",
    "\n",
    "# for these psfs, the info file just contains the offset values for the psfs"
   ]
  },
  {
   "cell_type": "code",
   "execution_count": 6,
   "metadata": {
    "collapsed": true
   },
   "outputs": [],
   "source": [
    "# open the fits files using the astropy.fits library and obtain the headers\n",
    "\n",
    "psfs_file = fits.open(psfs_file_path)\n",
    "info_file = fits.open(info_file_path)\n",
    "\n",
    "psfs_header = psfs_file[0].header\n",
    "info_header = info_file[0].header"
   ]
  },
  {
   "cell_type": "code",
   "execution_count": 7,
   "metadata": {},
   "outputs": [
    {
     "name": "stdout",
     "output_type": "stream",
     "text": [
      "1 SIMPLE True\n",
      "2 BITPIX -64\n",
      "3 NAXIS 3\n",
      "4 NAXIS1 217\n",
      "5 NAXIS2 217\n",
      "6 NAXIS3 18\n",
      "7 DATE 2016-06-03\n",
      "8 LAM_C 550.0\n",
      "9 MINLAM 508.8\n",
      "10 MAXLAM 591.3\n",
      "11 PIX_AS 0.00476662\n",
      "12 PIX_LD 0.1\n",
      "\n",
      "\n",
      "1 SIMPLE True\n",
      "2 BITPIX -32\n",
      "3 NAXIS 1\n",
      "4 NAXIS1 18\n",
      "5 EXTEND True\n",
      "6 DATE 2016-06-03\n"
     ]
    }
   ],
   "source": [
    "# print what the headers of the files are to see what information can be used directly from the headers\n",
    "\n",
    "for i,descriptor in enumerate(psfs_header,1):\n",
    "    print(i, descriptor, psfs_header[descriptor])\n",
    "\n",
    "print('\\n')\n",
    "\n",
    "for i,descriptor in enumerate(info_header,1):\n",
    "    print(i, descriptor, info_header[descriptor])"
   ]
  },
  {
   "cell_type": "markdown",
   "metadata": {},
   "source": [
    "From the headers, we see that there are 18 psfs and each psf is 217 by 217 pixels. Also, we are given the piel scale both in terms of arcseconds and in terms of lambda/D with lambda being the central wavelength, which for these psfs is 550nm.\n",
    "\n",
    "First, set the psfs data to the variable psfs, then check the shape of psfs data since it is a datacube to find \n",
    "which axis is the one that represents which psfs out of the 18 it is."
   ]
  },
  {
   "cell_type": "code",
   "execution_count": 8,
   "metadata": {},
   "outputs": [
    {
     "name": "stdout",
     "output_type": "stream",
     "text": [
      "(18, 217, 217)\n"
     ]
    }
   ],
   "source": [
    "psfs = psfs_file[0].data\n",
    "print(psfs.shape)"
   ]
  },
  {
   "cell_type": "markdown",
   "metadata": {},
   "source": [
    "Because the psfs are 217 by 217 pixels, each psf needs to be trimmed to be 200 by 200. In order to do this, remove 8 pixels from the left and 9 pixels from the right and now that we know what the axis are, just manipulate the data as a numpy area to remove the pixels."
   ]
  },
  {
   "cell_type": "code",
   "execution_count": 9,
   "metadata": {
    "collapsed": true
   },
   "outputs": [],
   "source": [
    "trimmed_psfs = psfs[:,8:-9,8:-9]"
   ]
  },
  {
   "cell_type": "markdown",
   "metadata": {},
   "source": [
    "Now, move the axis of the data so that the 3rd axis is the one that represents which psf it is. This is important for creating the interpolating function that will interpolate over a grid using x,y,z coordinates."
   ]
  },
  {
   "cell_type": "code",
   "execution_count": 10,
   "metadata": {},
   "outputs": [
    {
     "name": "stdout",
     "output_type": "stream",
     "text": [
      "(200, 200, 18)\n"
     ]
    },
    {
     "data": {
      "text/plain": [
       "<matplotlib.colorbar.Colorbar at 0x10e8e3668>"
      ]
     },
     "execution_count": 10,
     "metadata": {},
     "output_type": "execute_result"
    }
   ],
   "source": [
    "trimmed_moved_psfs = np.moveaxis(trimmed_psfs,0,-1)\n",
    "print(trimmed_moved_psfs.shape)\n",
    "\n",
    "# plot a psf to check if it looks correct\n",
    "psf_num = 3\n",
    "plt.figure(figsize=[5,5])\n",
    "plt.imshow(trimmed_moved_psfs[:,:,psf_num])\n",
    "plt.colorbar()"
   ]
  },
  {
   "cell_type": "markdown",
   "metadata": {},
   "source": [
    "Now setup the offset values of the psfs using the info fits file. The info fits file gives the offset values in terms of lambda/D so these need to be converted into milliarcseconds. "
   ]
  },
  {
   "cell_type": "code",
   "execution_count": 11,
   "metadata": {},
   "outputs": [
    {
     "name": "stdout",
     "output_type": "stream",
     "text": [
      "[  0.        42.542118  99.26493  113.44565  127.62636  155.98776\n",
      " 170.16847  184.34917  212.71057  226.8913   255.25272  283.6141\n",
      " 340.33694  382.87906  397.05972  411.24045  425.42114  439.60187 ] mas\n"
     ]
    }
   ],
   "source": [
    "offsets_LD = info_file[0].data\n",
    "\n",
    "lambda_c = psfs_header['LAM_C']*u.nm\n",
    "D = 2.4*u.m # the estimated diameter of the telescope; not given in the headers\n",
    "lambda_D = lambda_c.to(u.m)/D\n",
    "\n",
    "offsets_rad = offsets_LD*lambda_D.value*u.radian\n",
    "offsets_mas = offsets_rad.to(u.mas)\n",
    "print(offsets_mas)"
   ]
  },
  {
   "cell_type": "markdown",
   "metadata": {},
   "source": [
    "Now set the plate scale of the detector using the information given from the header."
   ]
  },
  {
   "cell_type": "code",
   "execution_count": 12,
   "metadata": {},
   "outputs": [
    {
     "name": "stdout",
     "output_type": "stream",
     "text": [
      "0.1\n",
      "0.00476662 arcsec\n"
     ]
    }
   ],
   "source": [
    "HLC_plate_scale_LD = psfs_header[\"PIX_LD\"] # arcsec/pixel of HLC PSFs\n",
    "print(HLC_plate_scale_LD)\n",
    "\n",
    "HLC_plate_scale_AS = psfs_header[\"PIX_AS\"]*u.arcsec # arcsec/pixel of HLC PSFs\n",
    "print(HLC_plate_scale_AS)"
   ]
  },
  {
   "cell_type": "markdown",
   "metadata": {},
   "source": [
    "Now to setup the interpolating function using the RegularGridInterpolator from scipy."
   ]
  },
  {
   "cell_type": "code",
   "execution_count": 13,
   "metadata": {
    "collapsed": true
   },
   "outputs": [],
   "source": [
    "n = 200 # this is how many pixels are in the grid that will be interpolated over\n",
    "\n",
    "x = range(n)\n",
    "y = range(n)\n",
    "z = offsets_mas\n",
    "\n",
    "hlcpsfs = trimmed_moved_psfs # set the trimmed and moved psfs to hlcpsfs here so it will be easier to use in the code\n",
    "\n",
    "my_interpolating_function = RegularGridInterpolator((x, y, z), \n",
    "                                                    hlcpsfs,\n",
    "                                                    bounds_error = False,\n",
    "                                                    method = \"linear\",\n",
    "                                                    fill_value = 0)\n",
    "\n",
    "# either nearest or linear interpolation can be used but linear will be more accurate\n"
   ]
  },
  {
   "cell_type": "markdown",
   "metadata": {},
   "source": [
    "Do an example interpolation to check the interpolating function."
   ]
  },
  {
   "cell_type": "code",
   "execution_count": 14,
   "metadata": {},
   "outputs": [
    {
     "data": {
      "text/plain": [
       "<matplotlib.colorbar.Colorbar at 0x10eb12470>"
      ]
     },
     "execution_count": 14,
     "metadata": {},
     "output_type": "execute_result"
    }
   ],
   "source": [
    "n = 200 \n",
    "\n",
    "x = range(n)\n",
    "y = range(n)\n",
    "\n",
    "grid = np.meshgrid(x,y) # create the grid to be interpolated over\n",
    "flattened_grid = np.vstack([grid[0].flatten(),grid[1].flatten()]) # flatten each dimension of the grid and stack the vectors\n",
    "offset = 99.264\n",
    "'''\n",
    "set the offset value that will be interpolated, if the offset is exactly the same as one of the \n",
    "offset values in the array of offsets, then the residual should just be 0\n",
    "'''\n",
    "pts = np.vstack( [flattened_grid, offset*np.ones(len(grid[0].flatten()))] ) # create the set of points with that offset\n",
    "pts = pts.T \n",
    "\n",
    "nearest_psf = (np.abs(offsets_mas.value - offset)).argmin()\n",
    "\n",
    "interpped = my_interpolating_function(pts).reshape(n,n).T\n",
    "\n",
    "# Now display everything\n",
    "plt.figure(figsize=[12,10])\n",
    "\n",
    "# Plot the original PSF\n",
    "plt.subplot(221)\n",
    "plt.title(\"Original\")\n",
    "plt.imshow(hlcpsfs[:,:,nearest_psf])\n",
    "plt.colorbar()\n",
    "# Plot the interpolated PSF\n",
    "plt.subplot(222)\n",
    "plt.title(\"Interpolated\")\n",
    "plt.imshow(interpped)\n",
    "plt.colorbar()\n",
    "# Plot the inerpolated - original PSF\n",
    "plt.subplot(223)\n",
    "plt.title(\"Residual\")\n",
    "plt.imshow(np.abs(interpped-hlcpsfs[:,:,nearest_psf]))\n",
    "plt.colorbar()"
   ]
  },
  {
   "cell_type": "markdown",
   "metadata": {},
   "source": [
    "Now create an image of a point source, in this case called a planet, using the the interpolating function and the function closest_monochrome_psf.\n",
    "\n",
    "How closest_monochrome_psf works: \n",
    "1. First, the x,y values are converted to r,theta values.\n",
    "2. Next, a set of pts is created using a flattened meshgrid and the r value (the same thing that was done for the planet interpolation example in this code except the r value acts as the offset value)\n",
    "3. Then, the interpolation is done using the interpolation function created to find what the psf with that offset value would be just like the example interpolation done directly in this code. \n",
    "4. Lastly, there is an extra step which is because the point will have a theta value along with the offset, so the array is then rotated using that theta value with the rotate function from scipy.ndimage\n",
    "    "
   ]
  },
  {
   "cell_type": "code",
   "execution_count": 15,
   "metadata": {},
   "outputs": [
    {
     "data": {
      "text/plain": [
       "<matplotlib.colorbar.Colorbar at 0x10fb317f0>"
      ]
     },
     "execution_count": 15,
     "metadata": {},
     "output_type": "execute_result"
    }
   ],
   "source": [
    "reload(hlc_processing)\n",
    "x_offset = 100*u.milliarcsecond\n",
    "y_offset = 100*u.milliarcsecond\n",
    "planet = hlc_processing.closest_monochrome_PSF(x_offset,y_offset,\n",
    "                                               my_interpolating_function,\n",
    "                                               offsets_mas,\n",
    "                                               HLC_plate_scale_AS,\n",
    "                                               mask_radius = None)\n",
    "\n",
    "plt.figure(figsize=[6,6])\n",
    "plt.imshow(planet)\n",
    "plt.colorbar()"
   ]
  },
  {
   "cell_type": "markdown",
   "metadata": {},
   "source": [
    "Now, create the paths that will be used to open and save the zodipics files."
   ]
  },
  {
   "cell_type": "code",
   "execution_count": 16,
   "metadata": {},
   "outputs": [
    {
     "name": "stdout",
     "output_type": "stream",
     "text": [
      "/Users/edouglas/projects/WFIRST/data/zodipics\n",
      "/Users/edouglas/projects/WFIRST/data/zodipics_outputs/zodipic_10pc03mas01alpha\n"
     ]
    }
   ],
   "source": [
    "zodi_input_path = my_home_path/\"zodipics\"\n",
    "print(zodi_input_path)\n",
    "\n",
    "zodi_output_path = my_home_path/'zodipics_outputs'/'zodipic_10pc03mas01alpha'\n",
    "print(zodi_output_path)\n",
    "# there is a folder for each of the zodipics inside the zodipics_outputs folder so change the \n",
    "# last folder name depending on which zodipic is being used\n",
    "\n",
    "zodi_header = psfs_header # make the zodi_header the psfs_header"
   ]
  },
  {
   "cell_type": "markdown",
   "metadata": {},
   "source": [
    "Now to run one of the zodipics which are all 256 by 256 pixels. The file being used is the zodipic_10pc03mas01alpha and the file will be run twice, once without a coremask and once with a coremask. In order to run the file, it goes through a function from hlc_processing called fit_to_hlc.\n",
    "\n",
    "How fit_to_hlc works: \n",
    "\n",
    "1. First, it creates masked array of the zodi data based on if the zodi value in a pixel is less than the max divided by the thresh. \n",
    "2. Then, it creates a 256 by 256 grid ranging from -128 to 127 to represent the pixel grid.\n",
    "3. Next, because there are an even number of pixels, it does half pixel shifts to center the x,y grid and multiply by the pixel scale to create the x,y grid in arcseconds. \n",
    "4. Then, it adjusts the masked array based on the core mask radius. \n",
    "5. Flattens the pixel grid and initializes the im which will be 200 by 200. \n",
    "6. Lastly, there is a for loop which runs through the data in the zodi masked array. \n",
    "If the value is masked, then the loop does nothing and continues to the next value. \n",
    "If the value is not masked, then the loop creates an im using the zodi_val as a weight and by calling the closest_monochrome_psf function with the corresponding x,y to that zodi_val. \n",
    "Each time a loop is completed, the im summed up again."
   ]
  },
  {
   "cell_type": "code",
   "execution_count": null,
   "metadata": {
    "collapsed": true
   },
   "outputs": [],
   "source": []
  },
  {
   "cell_type": "code",
   "execution_count": 67,
   "metadata": {},
   "outputs": [
    {
     "name": "stdout",
     "output_type": "stream",
     "text": [
      "Running zodipic through HLC ...\n",
      "\n",
      "Input file: \n",
      "zodipic_10pc03mas.fits\n",
      "zodipic_10pc03mas_HLC.fits\n",
      "zodipic_10pc03mas_input.fits\n",
      "981.2970008850098\n"
     ]
    },
    {
     "data": {
      "image/png": "[encoded data removed]",
      "text/plain": [
       "<Figure size 792x216 with 6 Axes>"
      ]
     },
     "metadata": {},
     "output_type": "display_data"
    }
   ],
   "source": [
    "reload(hlc_processing)\n",
    "\n",
    "zodi_fname = \"zodipic_10pc03mas.fits\"\n",
    "zodi_file = zodi_fname\n",
    "\n",
    "# set the thresh value\n",
    "thresh = 1e32\n",
    "\n",
    "# first run it without a coremask\n",
    "core_mask_radius=0*u.arcsec\n",
    "\n",
    "start = time.time()\n",
    "\n",
    "im,zodi = hlc_processing.fit_to_hlc(zodi_file,\n",
    "                                    my_interpolating_function,\n",
    "                                    offsets_mas,\n",
    "                                    HLC_plate_scale_AS,\n",
    "                                    n = 200,\n",
    "                                    thresh = thresh,\n",
    "                                    display=True, \n",
    "                                    core_mask_radius = core_mask_radius,\n",
    "                                   vmax_out=3e-12)\n",
    "\n",
    "\n",
    "# create the names of the files that will be saved\n",
    "im_name = zodi_fname[:-5] + \"_HLC.fits\"\n",
    "print(im_name)\n",
    "\n",
    "zodi_name = (zodi_fname[:-5] + \"_input.fits\")\n",
    "print(zodi_name)\n",
    "\n",
    "# set the header of the files that will be saved\n",
    "zodi_header[\"thresh\"] = thresh\n",
    "zodi_header[\"coremask\"] = core_mask_radius.value\n",
    "\n",
    "fits.writeto(im_name, im, overwrite=True, header=zodi_header) \n",
    "fits.writeto(zodi_name, zodi.filled(fill_value = 0), overwrite = True)\n",
    "\n",
    "end = time.time()\n",
    "print(end-start)\n",
    "plt.savefig(\"unmasked_zodi.png\")"
   ]
  },
  {
   "cell_type": "code",
   "execution_count": 66,
   "metadata": {},
   "outputs": [
    {
     "name": "stdout",
     "output_type": "stream",
     "text": [
      "Running zodipic through HLC ...\n",
      "\n",
      "Input file: \n",
      "zodipic_10pc03mas.fits\n"
     ]
    },
    {
     "ename": "KeyboardInterrupt",
     "evalue": "",
     "output_type": "error",
     "traceback": [
      "\u001b[0;31m---------------------------------------------------------------------------\u001b[0m",
      "\u001b[0;31mKeyboardInterrupt\u001b[0m                         Traceback (most recent call last)",
      "\u001b[0;32m<ipython-input-66-1cea6ddc24b1>\u001b[0m in \u001b[0;36m<module>\u001b[0;34m()\u001b[0m\n\u001b[1;32m     15\u001b[0m                                     \u001b[0mdisplay\u001b[0m\u001b[0;34m=\u001b[0m\u001b[0;32mTrue\u001b[0m\u001b[0;34m,\u001b[0m\u001b[0;34m\u001b[0m\u001b[0m\n\u001b[1;32m     16\u001b[0m                                     \u001b[0mcore_mask_radius\u001b[0m \u001b[0;34m=\u001b[0m \u001b[0mcore_mask_radius\u001b[0m\u001b[0;34m,\u001b[0m\u001b[0;34m\u001b[0m\u001b[0m\n\u001b[0;32m---> 17\u001b[0;31m                                     vmax_out=3e-12)\n\u001b[0m\u001b[1;32m     18\u001b[0m \u001b[0;34m\u001b[0m\u001b[0m\n\u001b[1;32m     19\u001b[0m \u001b[0;31m# create the names of the files that will be saved\u001b[0m\u001b[0;34m\u001b[0m\u001b[0;34m\u001b[0m\u001b[0m\n",
      "\u001b[0;32m~/github/wfirst/2019procspie/2019_ProcSPIE_WFIRST_CGI_Exozodi/hlc_processing.py\u001b[0m in \u001b[0;36mfit_to_hlc\u001b[0;34m(zodi_file, interpolating_function, xmas, HLC_plate_scale, n, thresh, display, core_mask_radius, mask_radius, vmax_out, **kwargs)\u001b[0m\n\u001b[1;32m     78\u001b[0m                                               \u001b[0mn\u001b[0m \u001b[0;34m=\u001b[0m \u001b[0mn\u001b[0m\u001b[0;34m,\u001b[0m\u001b[0;34m\u001b[0m\u001b[0m\n\u001b[1;32m     79\u001b[0m                                               \u001b[0mmask_radius\u001b[0m\u001b[0;34m=\u001b[0m\u001b[0mmask_radius\u001b[0m\u001b[0;34m,\u001b[0m\u001b[0;34m\u001b[0m\u001b[0m\n\u001b[0;32m---> 80\u001b[0;31m                                              **kwargs)\n\u001b[0m\u001b[1;32m     81\u001b[0m     '''\n\u001b[1;32m     82\u001b[0m     \u001b[0mthis\u001b[0m \u001b[0;32mfor\u001b[0m \u001b[0mloop\u001b[0m \u001b[0mruns\u001b[0m \u001b[0mthrough\u001b[0m \u001b[0mthe\u001b[0m \u001b[0mdata\u001b[0m \u001b[0;32min\u001b[0m \u001b[0mthe\u001b[0m \u001b[0mzodi\u001b[0m \u001b[0mmasked\u001b[0m \u001b[0marray\u001b[0m\u001b[0;34m.\u001b[0m\u001b[0;34m\u001b[0m\u001b[0m\n",
      "\u001b[0;32m~/github/wfirst/2019procspie/2019_ProcSPIE_WFIRST_CGI_Exozodi/hlc_processing.py\u001b[0m in \u001b[0;36mclosest_monochrome_PSF\u001b[0;34m(x, y, HLCinterpfun, xmas, HLC_plate_scale, n, mask_radius)\u001b[0m\n\u001b[1;32m    142\u001b[0m     \u001b[0mpts\u001b[0m \u001b[0;34m=\u001b[0m \u001b[0mnp\u001b[0m\u001b[0;34m.\u001b[0m\u001b[0mvstack\u001b[0m\u001b[0;34m(\u001b[0m\u001b[0;34m[\u001b[0m \u001b[0mflattened_grid\u001b[0m \u001b[0;34m,\u001b[0m \u001b[0mr\u001b[0m\u001b[0;34m.\u001b[0m\u001b[0mvalue\u001b[0m\u001b[0;34m*\u001b[0m\u001b[0mnp\u001b[0m\u001b[0;34m.\u001b[0m\u001b[0mones\u001b[0m\u001b[0;34m(\u001b[0m\u001b[0mlen\u001b[0m\u001b[0;34m(\u001b[0m\u001b[0mgrid\u001b[0m\u001b[0;34m[\u001b[0m\u001b[0;36m0\u001b[0m\u001b[0;34m]\u001b[0m\u001b[0;34m.\u001b[0m\u001b[0mflatten\u001b[0m\u001b[0;34m(\u001b[0m\u001b[0;34m)\u001b[0m\u001b[0;34m)\u001b[0m\u001b[0;34m)\u001b[0m \u001b[0;34m]\u001b[0m\u001b[0;34m)\u001b[0m\u001b[0;34m.\u001b[0m\u001b[0mT\u001b[0m\u001b[0;34m\u001b[0m\u001b[0m\n\u001b[1;32m    143\u001b[0m \u001b[0;34m\u001b[0m\u001b[0m\n\u001b[0;32m--> 144\u001b[0;31m     \u001b[0minterpped\u001b[0m \u001b[0;34m=\u001b[0m \u001b[0mHLCinterpfun\u001b[0m\u001b[0;34m(\u001b[0m\u001b[0mpts\u001b[0m\u001b[0;34m)\u001b[0m\u001b[0;34m.\u001b[0m\u001b[0mreshape\u001b[0m\u001b[0;34m(\u001b[0m\u001b[0mn\u001b[0m\u001b[0;34m,\u001b[0m\u001b[0mn\u001b[0m\u001b[0;34m)\u001b[0m\u001b[0;34m\u001b[0m\u001b[0m\n\u001b[0m\u001b[1;32m    145\u001b[0m \u001b[0;34m\u001b[0m\u001b[0m\n\u001b[1;32m    146\u001b[0m     \u001b[0minterpped\u001b[0m \u001b[0;34m=\u001b[0m \u001b[0mrotate\u001b[0m\u001b[0;34m(\u001b[0m\u001b[0minterpped\u001b[0m\u001b[0;34m,\u001b[0m\u001b[0;34m-\u001b[0m\u001b[0mtheta\u001b[0m\u001b[0;34m.\u001b[0m\u001b[0mto\u001b[0m\u001b[0;34m(\u001b[0m\u001b[0mu\u001b[0m\u001b[0;34m.\u001b[0m\u001b[0mdeg\u001b[0m\u001b[0;34m)\u001b[0m\u001b[0;34m.\u001b[0m\u001b[0mvalue\u001b[0m\u001b[0;34m)\u001b[0m\u001b[0;34m*\u001b[0m\u001b[0mmask\u001b[0m\u001b[0;34m\u001b[0m\u001b[0m\n",
      "\u001b[0;32m~/anaconda/lib/python3.5/site-packages/scipy/interpolate/interpolate.py\u001b[0m in \u001b[0;36m__call__\u001b[0;34m(self, xi, method)\u001b[0m\n\u001b[1;32m   2416\u001b[0m                                      \"in dimension %d\" % i)\n\u001b[1;32m   2417\u001b[0m \u001b[0;34m\u001b[0m\u001b[0m\n\u001b[0;32m-> 2418\u001b[0;31m         \u001b[0mindices\u001b[0m\u001b[0;34m,\u001b[0m \u001b[0mnorm_distances\u001b[0m\u001b[0;34m,\u001b[0m \u001b[0mout_of_bounds\u001b[0m \u001b[0;34m=\u001b[0m \u001b[0mself\u001b[0m\u001b[0;34m.\u001b[0m\u001b[0m_find_indices\u001b[0m\u001b[0;34m(\u001b[0m\u001b[0mxi\u001b[0m\u001b[0;34m.\u001b[0m\u001b[0mT\u001b[0m\u001b[0;34m)\u001b[0m\u001b[0;34m\u001b[0m\u001b[0m\n\u001b[0m\u001b[1;32m   2419\u001b[0m         \u001b[0;32mif\u001b[0m \u001b[0mmethod\u001b[0m \u001b[0;34m==\u001b[0m \u001b[0;34m\"linear\"\u001b[0m\u001b[0;34m:\u001b[0m\u001b[0;34m\u001b[0m\u001b[0m\n\u001b[1;32m   2420\u001b[0m             result = self._evaluate_linear(indices,\n",
      "\u001b[0;32m~/anaconda/lib/python3.5/site-packages/scipy/interpolate/interpolate.py\u001b[0m in \u001b[0;36m_find_indices\u001b[0;34m(self, xi)\u001b[0m\n\u001b[1;32m   2460\u001b[0m         \u001b[0;31m# iterate through dimensions\u001b[0m\u001b[0;34m\u001b[0m\u001b[0;34m\u001b[0m\u001b[0m\n\u001b[1;32m   2461\u001b[0m         \u001b[0;32mfor\u001b[0m \u001b[0mx\u001b[0m\u001b[0;34m,\u001b[0m \u001b[0mgrid\u001b[0m \u001b[0;32min\u001b[0m \u001b[0mzip\u001b[0m\u001b[0;34m(\u001b[0m\u001b[0mxi\u001b[0m\u001b[0;34m,\u001b[0m \u001b[0mself\u001b[0m\u001b[0;34m.\u001b[0m\u001b[0mgrid\u001b[0m\u001b[0;34m)\u001b[0m\u001b[0;34m:\u001b[0m\u001b[0;34m\u001b[0m\u001b[0m\n\u001b[0;32m-> 2462\u001b[0;31m             \u001b[0mi\u001b[0m \u001b[0;34m=\u001b[0m \u001b[0mnp\u001b[0m\u001b[0;34m.\u001b[0m\u001b[0msearchsorted\u001b[0m\u001b[0;34m(\u001b[0m\u001b[0mgrid\u001b[0m\u001b[0;34m,\u001b[0m \u001b[0mx\u001b[0m\u001b[0;34m)\u001b[0m \u001b[0;34m-\u001b[0m \u001b[0;36m1\u001b[0m\u001b[0;34m\u001b[0m\u001b[0m\n\u001b[0m\u001b[1;32m   2463\u001b[0m             \u001b[0mi\u001b[0m\u001b[0;34m[\u001b[0m\u001b[0mi\u001b[0m \u001b[0;34m<\u001b[0m \u001b[0;36m0\u001b[0m\u001b[0;34m]\u001b[0m \u001b[0;34m=\u001b[0m \u001b[0;36m0\u001b[0m\u001b[0;34m\u001b[0m\u001b[0m\n\u001b[1;32m   2464\u001b[0m             \u001b[0mi\u001b[0m\u001b[0;34m[\u001b[0m\u001b[0mi\u001b[0m \u001b[0;34m>\u001b[0m \u001b[0mgrid\u001b[0m\u001b[0;34m.\u001b[0m\u001b[0msize\u001b[0m \u001b[0;34m-\u001b[0m \u001b[0;36m2\u001b[0m\u001b[0;34m]\u001b[0m \u001b[0;34m=\u001b[0m \u001b[0mgrid\u001b[0m\u001b[0;34m.\u001b[0m\u001b[0msize\u001b[0m \u001b[0;34m-\u001b[0m \u001b[0;36m2\u001b[0m\u001b[0;34m\u001b[0m\u001b[0m\n",
      "\u001b[0;31mKeyboardInterrupt\u001b[0m: "
     ]
    }
   ],
   "source": [
    "\n",
    "reload(hlc_processing)\n",
    "\n",
    "# now run it with a coremask of 150mas\n",
    "core_mask_radius=0.15*u.arcsec\n",
    "\n",
    "start = time.time()\n",
    "\n",
    "im_m,zodi_m = hlc_processing.fit_to_hlc(zodi_file,\n",
    "                                    my_interpolating_function,\n",
    "                                    offsets_mas,\n",
    "                                    HLC_plate_scale_AS,\n",
    "                                    n = 200,\n",
    "                                    thresh = thresh,\n",
    "                                    display=True, \n",
    "                                    core_mask_radius = core_mask_radius,\n",
    "                                    vmax_out=3e-12)\n",
    "\n",
    "# create the names of the files that will be saved\n",
    "'''\n",
    "im_name = (zodi_fname[:-5] + \"_coremasked_HLC.fits\")\n",
    "print(im_name)\n",
    "\n",
    "#zodi_name = zodi_output_path/(zodi_fname[:-5] + \"_coremasked_input.fits\")\n",
    "print(zodi_name)\n",
    "\n",
    "# set the header of the files that will be saved\n",
    "zodi_header[\"thresh\"] = thresh\n",
    "zodi_header[\"coremask\"] = core_mask_radius.value\n",
    "\n",
    "fits.writeto(im_name, im_m, overwrite=True, header=zodi_header) \n",
    "fits.writeto(zodi_name_m, zodi.filled(fill_value = 0), overwrite = True)\n",
    "'''\n",
    "end = time.time()\n",
    "print(end-start)\n",
    "plt.savefig(\"masked_zodi.png\")"
   ]
  },
  {
   "cell_type": "code",
   "execution_count": 64,
   "metadata": {},
   "outputs": [
    {
     "name": "stdout",
     "output_type": "stream",
     "text": [
      "additional flux leakage: 26%\n"
     ]
    }
   ],
   "source": [
    "print(\"additional flux leakage: {:.2g}%\".format(100*(im.sum()-im_m.sum())/im_m.sum()))"
   ]
  },
  {
   "cell_type": "markdown",
   "metadata": {},
   "source": []
  },
  {
   "cell_type": "code",
   "execution_count": null,
   "metadata": {},
   "outputs": [],
   "source": []
  },
  {
   "cell_type": "markdown",
   "metadata": {},
   "source": [
    "Now run one of the files through the disk_through_hlc function which is contained in the disk_processing.py file. \n",
    "\n",
    "How disk_through_hlc works: (very similar to fit_to_hlc function)\n",
    "1. First, the function creates the output path which the file will be saved to based on if the file is an annulus, constanttau, gap, or ring file. \n",
    "2. Then, it creates the masked array of the data based on if the value in a pixel is less than the max divided by the thresh. \n",
    "3. Next, it creates an x,y grid with the x,y in arcseconds based on the pixel scale of the fits file. \n",
    "4. Lastly, it runs the same for loop that is used in the fit_to_hlc function. As a reminder, this is what the for loop does. \n",
    "If the value is masked, then the loop does nothing and continues to the next value. \n",
    "If the value is not masked, then the loop creates an im using the zodi_val as a weight and by calling the closest_monochrome_psf function with the corresponding x,y to that zodi_val. \n",
    "Each time a loop is completed, the im summed up again."
   ]
  }
 ],
 "metadata": {
  "kernelspec": {
   "display_name": "Python [default]",
   "language": "python",
   "name": "python3"
  },
  "language_info": {
   "codemirror_mode": {
    "name": "ipython",
    "version": 3
   },
   "file_extension": ".py",
   "mimetype": "text/x-python",
   "name": "python",
   "nbconvert_exporter": "python",
   "pygments_lexer": "ipython3",
   "version": "3.5.4"
  }
 },
 "nbformat": 4,
 "nbformat_minor": 2
}
